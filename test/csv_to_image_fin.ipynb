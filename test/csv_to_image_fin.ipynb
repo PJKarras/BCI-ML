{
 "cells": [
  {
   "cell_type": "code",
   "execution_count": 1,
   "metadata": {},
   "outputs": [
    {
     "data": {
      "text/plain": [
       "' This file attempts to visualize the written out csv files, everything here is very rough and was intended as a\\n    visualization tool to see trends in temperature. Intended to be ran within file folder with images to be observed\\n    (this can be changed)'"
      ]
     },
     "execution_count": 1,
     "metadata": {},
     "output_type": "execute_result"
    }
   ],
   "source": [
    "# Peter Karras 2020\n",
    "''' This file attempts to visualize the written out csv files, everything here is very rough and was intended as a\n",
    "    visualization tool to see trends in temperature. Intended to be ran within file folder with images to be observed\n",
    "    (this can be changed)'''"
   ]
  },
  {
   "cell_type": "code",
   "execution_count": 9,
   "metadata": {},
   "outputs": [],
   "source": [
    "from matplotlib.ticker import FuncFormatter\n",
    "import matplotlib.pyplot as plt\n",
    "\n",
    "import pandas as pd\n",
    "import torch\n",
    "import numpy as np\n",
    "from PIL import Image\n",
    "import os\n",
    "from os import listdir\n",
    "from os.path import isfile, join\n",
    "from os import getcwd\n",
    "import time"
   ]
  },
  {
   "cell_type": "code",
   "execution_count": 10,
   "metadata": {},
   "outputs": [
    {
     "name": "stdout",
     "output_type": "stream",
     "text": [
      "128\n",
      "['V128', 'V127', 'V126', 'V125', 'V124', 'V123', 'V122', 'V121', 'V120', 'V119', 'V118', 'V117', 'V116', 'V115', 'V114', 'V113', 'V112', 'V111', 'V110', 'V109', 'V108', 'V107', 'V106', 'V105', 'V104', 'V103', 'V102', 'V101', 'V100', 'V99', 'V98', 'V97', 'V96', 'V95', 'V94', 'V93', 'V92', 'V91', 'V90', 'V89', 'V88', 'V87', 'V86', 'V85', 'V84', 'V83', 'V82', 'V81', 'V80', 'V79', 'V78', 'V77', 'V76', 'V75', 'V74', 'V73', 'V72', 'V71', 'V70', 'V69', 'V68', 'V67', 'V66', 'V65', 'V64', 'V63', 'V62', 'V61', 'V60', 'V59', 'V58', 'V57', 'V56', 'V55', 'V54', 'V53', 'V52', 'V51', 'V50', 'V49', 'V48', 'V47', 'V46', 'V45', 'V44', 'V43', 'V42', 'V41', 'V40', 'V39', 'V38', 'V37', 'V36', 'V35', 'V34', 'V33', 'V32', 'V31', 'V30', 'V29', 'V28', 'V27', 'V26', 'V25', 'V24', 'V23', 'V22', 'V21', 'V20', 'V19', 'V18', 'V17', 'V16', 'V15', 'V14', 'V13', 'V12', 'V11', 'V10', 'V9', 'V8', 'V7', 'V6', 'V5', 'V4', 'V3', 'V2', 'V1']\n"
     ]
    }
   ],
   "source": [
    "#(top row) 239 - 0 (bottom row)\n",
    "start_col = 128\n",
    "end_col = 0\n",
    "cols = ['V' + str(x) for x in range(start_col, end_col,-1)]\n",
    "print(len(cols))\n",
    "print(cols)"
   ]
  },
  {
   "cell_type": "code",
   "execution_count": 11,
   "metadata": {},
   "outputs": [],
   "source": [
    "# White images cold\n",
    "# Black images warm\n",
    "\n",
    "\n",
    "\n",
    "# Selection of file paths\n",
    "onlyfiles = [f for f in listdir(os.getcwd()) if isfile(join(os.getcwd(), f))]\n",
    "\n",
    "loops = int((len(onlyfiles)-1))\n",
    "sumList = list()\n",
    "labelList = list()\n",
    "regCount = 0\n",
    "# You can choose how many images to create from dataset by tweaking the step variable in range()\n",
    "# Note: by default this program will look for a folder named \"Imagaes/\" (typo I know) to place\n",
    "# the images into\n",
    "for i in range(0,loops,4):\n",
    "    trainPanda = pd.read_csv(onlyfiles[i],usecols=cols)\n",
    "    img_as_np = np.asarray(trainPanda)\n",
    "    sum1 = np.sum(img_as_np)\n",
    "    sumList.append(sum1)\n",
    "    labelList.append(regCount)\n",
    "    regCount += 1\n",
    "    max_val = np.amax(img_as_np)\n",
    "    min_val = np.amin(img_as_np)\n",
    "    img_as_np = ((img_as_np-min_val)/(max_val - min_val)) * 255\n",
    "    img_as_np = np.rot90(img_as_np)\n",
    "    img = Image.fromarray(img_as_np)\n",
    "    img = img.convert('L')\n",
    "    img.save(str(i) + \"___\" + onlyfiles[i] + \".jpeg\")\n",
    "    "
   ]
  },
  {
   "cell_type": "code",
   "execution_count": null,
   "metadata": {},
   "outputs": [],
   "source": []
  }
 ],
 "metadata": {
  "kernelspec": {
   "display_name": "Python 3",
   "language": "python",
   "name": "python3"
  },
  "language_info": {
   "codemirror_mode": {
    "name": "ipython",
    "version": 3
   },
   "file_extension": ".py",
   "mimetype": "text/x-python",
   "name": "python",
   "nbconvert_exporter": "python",
   "pygments_lexer": "ipython3",
   "version": "3.7.4"
  }
 },
 "nbformat": 4,
 "nbformat_minor": 2
}
