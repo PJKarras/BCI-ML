{
 "cells": [
  {
   "cell_type": "code",
   "execution_count": null,
   "metadata": {},
   "outputs": [],
   "source": [
    "# Peter Karras 2020\n",
    "''' This file attempts to visualize the written out csv files, everything here is very rough and was intended as a\n",
    "    visualization tool to see trends in temperature. Intended to be ran within file folder with images to be observed\n",
    "    (this can be changed)'''"
   ]
  },
  {
   "cell_type": "code",
   "execution_count": 1,
   "metadata": {},
   "outputs": [],
   "source": [
    "from matplotlib.ticker import FuncFormatter\n",
    "import matplotlib.pyplot as plt\n",
    "\n",
    "import pandas as pd\n",
    "import torch\n",
    "import numpy as np\n",
    "from PIL import Image\n",
    "import os\n",
    "from os import listdir\n",
    "from os.path import isfile, join\n",
    "from os import getcwd\n",
    "import time"
   ]
  },
  {
   "cell_type": "code",
   "execution_count": 4,
   "metadata": {},
   "outputs": [
    {
     "name": "stdout",
     "output_type": "stream",
     "text": [
      "C:\\Users\\Peter\\Desktop\\Thermo_R_Code\\FinalThermo\n",
      "['.Rhistory', 'all-30min-Apr2018_working.csv', 'csv_to_image_fin.ipynb', 'Dataset_CNN_fin.ipynb', 'GPPcsv.csv', 'makemaster.ipynb', 'seq_To_CSV_PK_fin.R', 'thermocamTools_0.1.tar.gz']\n"
     ]
    }
   ],
   "source": [
    "# White images cold\n",
    "# Black images warm\n",
    "\n",
    "# Selection of file paths\n",
    "onlyfiles = [f for f in listdir(os.getcwd()) if isfile(join(os.getcwd(), f))]\n",
    "\n",
    "loops = int((len(onlyfiles)-1))\n",
    "\n",
    "# You can choose how many images to create from dataset by tweaking the step variable in range()\n",
    "# Note: by default this program will look for a folder named \"Imagaes/\" (typo I know) to place\n",
    "# the images into\n",
    "for i in range(0,loops,4):\n",
    "    trainPanda = pd.read_csv(onlyfiles[i])\n",
    "    img_as_np = np.asarray(trainPanda)\n",
    "    sum = np.sum(img_as_np)\n",
    "    sumList.append(sum)\n",
    "    labelList.append(regCount)\n",
    "    regCount += 1\n",
    "    max_val = np.amax(img_as_np)\n",
    "    min_val = np.amin(img_as_np)\n",
    "    img_as_np = ((img_as_np-min_val)/(max_val - min_val)) * 255\n",
    "    img_as_np = np.rot90(img_as_np)\n",
    "    img = Image.fromarray(img_as_np)\n",
    "    img = img.convert('L')\n",
    "    img.save(\"Imgaes/\" + str(i) + \"___\" + onlyfiles[i] + \".jpeg\")\n",
    "    "
   ]
  }
 ],
 "metadata": {
  "kernelspec": {
   "display_name": "Python 3",
   "language": "python",
   "name": "python3"
  },
  "language_info": {
   "codemirror_mode": {
    "name": "ipython",
    "version": 3
   },
   "file_extension": ".py",
   "mimetype": "text/x-python",
   "name": "python",
   "nbconvert_exporter": "python",
   "pygments_lexer": "ipython3",
   "version": "3.7.4"
  }
 },
 "nbformat": 4,
 "nbformat_minor": 2
}
