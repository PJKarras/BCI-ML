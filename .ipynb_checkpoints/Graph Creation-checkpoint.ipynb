{
 "cells": [
  {
   "cell_type": "code",
   "execution_count": 17,
   "metadata": {},
   "outputs": [],
   "source": [
    "import pandas\n",
    "import os\n",
    "import matplotlib.pyplot as plt\n",
    "location_of_data = r\"C:\\Users\\Peter\\Desktop\\Thermo_R_Code\\FinalThermo\\new\\BCI-ML\\Monthly_Data_Summaries_csv\\DAYTIME_new3601492\"\n",
    "file_name = \"test_data_DAYTIME_2-304235878625022.csv\"\n",
    "os.chdir(location_of_data)\n",
    "\n",
    "colnames = ['targets', 'outputs']\n",
    "data = pandas.read_csv(file_name, names=colnames)\n",
    "targets = data.targets.tolist()\n",
    "outputs = data.targets.tolist()\n"
   ]
  },
  {
   "cell_type": "code",
   "execution_count": null,
   "metadata": {},
   "outputs": [],
   "source": [
    "print(\"bas\")\n",
    "plt.scatter(outputs, targets, s=10, alpha=0.5)\n",
    "fig = plt.gcf()\n",
    "print(\"bas\")\n",
    "fig.show()\n",
    "print(\"bas\")"
   ]
  },
  {
   "cell_type": "code",
   "execution_count": null,
   "metadata": {},
   "outputs": [],
   "source": []
  }
 ],
 "metadata": {
  "kernelspec": {
   "display_name": "Python 3",
   "language": "python",
   "name": "python3"
  },
  "language_info": {
   "codemirror_mode": {
    "name": "ipython",
    "version": 3
   },
   "file_extension": ".py",
   "mimetype": "text/x-python",
   "name": "python",
   "nbconvert_exporter": "python",
   "pygments_lexer": "ipython3",
   "version": "3.7.4"
  }
 },
 "nbformat": 4,
 "nbformat_minor": 2
}
